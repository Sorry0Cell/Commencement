{
 "cells": [
  {
   "cell_type": "code",
   "execution_count": 1,
   "metadata": {},
   "outputs": [],
   "source": [
    "import numpy as np\n",
    "import pandas as pd\n",
    "from sklearn.preprocessing import StandardScaler, MinMaxScaler"
   ]
  },
  {
   "cell_type": "code",
   "execution_count": 2,
   "metadata": {},
   "outputs": [],
   "source": [
    "df = pd.read_csv(\"../data/new_lstm_data_201415_turnover.csv\")"
   ]
  },
  {
   "cell_type": "code",
   "execution_count": 3,
   "metadata": {},
   "outputs": [
    {
     "data": {
      "text/html": [
       "<div>\n",
       "<style scoped>\n",
       "    .dataframe tbody tr th:only-of-type {\n",
       "        vertical-align: middle;\n",
       "    }\n",
       "\n",
       "    .dataframe tbody tr th {\n",
       "        vertical-align: top;\n",
       "    }\n",
       "\n",
       "    .dataframe thead th {\n",
       "        text-align: right;\n",
       "    }\n",
       "</style>\n",
       "<table border=\"1\" class=\"dataframe\">\n",
       "  <thead>\n",
       "    <tr style=\"text-align: right;\">\n",
       "      <th></th>\n",
       "      <th>Stkcd</th>\n",
       "      <th>Trddt</th>\n",
       "      <th>Opnprc</th>\n",
       "      <th>Hiprc</th>\n",
       "      <th>Loprc</th>\n",
       "      <th>Clsprc</th>\n",
       "      <th>PB</th>\n",
       "      <th>PE</th>\n",
       "      <th>Volume</th>\n",
       "      <th>turnover_1</th>\n",
       "    </tr>\n",
       "  </thead>\n",
       "  <tbody>\n",
       "    <tr>\n",
       "      <th>0</th>\n",
       "      <td>1</td>\n",
       "      <td>2014/1/2</td>\n",
       "      <td>12.12</td>\n",
       "      <td>12.30</td>\n",
       "      <td>12.05</td>\n",
       "      <td>12.23</td>\n",
       "      <td>0.992657</td>\n",
       "      <td>23.038914</td>\n",
       "      <td>5.962237e+08</td>\n",
       "      <td>10.692867</td>\n",
       "    </tr>\n",
       "    <tr>\n",
       "      <th>1</th>\n",
       "      <td>1</td>\n",
       "      <td>2014/1/3</td>\n",
       "      <td>12.15</td>\n",
       "      <td>12.16</td>\n",
       "      <td>11.78</td>\n",
       "      <td>11.93</td>\n",
       "      <td>0.968308</td>\n",
       "      <td>22.473773</td>\n",
       "      <td>6.566313e+08</td>\n",
       "      <td>11.776235</td>\n",
       "    </tr>\n",
       "    <tr>\n",
       "      <th>2</th>\n",
       "      <td>1</td>\n",
       "      <td>2014/1/6</td>\n",
       "      <td>11.89</td>\n",
       "      <td>12.00</td>\n",
       "      <td>11.50</td>\n",
       "      <td>11.67</td>\n",
       "      <td>0.947205</td>\n",
       "      <td>21.983984</td>\n",
       "      <td>6.792804e+08</td>\n",
       "      <td>12.182431</td>\n",
       "    </tr>\n",
       "    <tr>\n",
       "      <th>3</th>\n",
       "      <td>1</td>\n",
       "      <td>2014/1/7</td>\n",
       "      <td>11.53</td>\n",
       "      <td>11.76</td>\n",
       "      <td>11.51</td>\n",
       "      <td>11.63</td>\n",
       "      <td>0.943958</td>\n",
       "      <td>21.908632</td>\n",
       "      <td>3.939776e+08</td>\n",
       "      <td>7.065719</td>\n",
       "    </tr>\n",
       "    <tr>\n",
       "      <th>4</th>\n",
       "      <td>1</td>\n",
       "      <td>2014/1/8</td>\n",
       "      <td>11.64</td>\n",
       "      <td>11.95</td>\n",
       "      <td>11.53</td>\n",
       "      <td>11.76</td>\n",
       "      <td>0.954510</td>\n",
       "      <td>22.153526</td>\n",
       "      <td>5.384362e+08</td>\n",
       "      <td>9.656486</td>\n",
       "    </tr>\n",
       "    <tr>\n",
       "      <th>5</th>\n",
       "      <td>1</td>\n",
       "      <td>2014/1/9</td>\n",
       "      <td>11.69</td>\n",
       "      <td>11.99</td>\n",
       "      <td>11.65</td>\n",
       "      <td>11.82</td>\n",
       "      <td>0.959379</td>\n",
       "      <td>22.266554</td>\n",
       "      <td>5.768705e+08</td>\n",
       "      <td>10.345780</td>\n",
       "    </tr>\n",
       "    <tr>\n",
       "      <th>6</th>\n",
       "      <td>1</td>\n",
       "      <td>2014/1/10</td>\n",
       "      <td>11.78</td>\n",
       "      <td>11.95</td>\n",
       "      <td>11.66</td>\n",
       "      <td>11.82</td>\n",
       "      <td>0.959379</td>\n",
       "      <td>22.266554</td>\n",
       "      <td>4.504877e+08</td>\n",
       "      <td>8.079190</td>\n",
       "    </tr>\n",
       "    <tr>\n",
       "      <th>7</th>\n",
       "      <td>1</td>\n",
       "      <td>2014/1/13</td>\n",
       "      <td>11.80</td>\n",
       "      <td>11.91</td>\n",
       "      <td>11.49</td>\n",
       "      <td>11.60</td>\n",
       "      <td>0.941523</td>\n",
       "      <td>21.852118</td>\n",
       "      <td>5.593752e+08</td>\n",
       "      <td>10.032012</td>\n",
       "    </tr>\n",
       "    <tr>\n",
       "      <th>8</th>\n",
       "      <td>1</td>\n",
       "      <td>2014/1/14</td>\n",
       "      <td>11.57</td>\n",
       "      <td>11.78</td>\n",
       "      <td>11.45</td>\n",
       "      <td>11.72</td>\n",
       "      <td>0.951263</td>\n",
       "      <td>22.078174</td>\n",
       "      <td>4.207153e+08</td>\n",
       "      <td>7.545241</td>\n",
       "    </tr>\n",
       "    <tr>\n",
       "      <th>9</th>\n",
       "      <td>1</td>\n",
       "      <td>2014/1/15</td>\n",
       "      <td>11.70</td>\n",
       "      <td>11.74</td>\n",
       "      <td>11.56</td>\n",
       "      <td>11.67</td>\n",
       "      <td>0.947205</td>\n",
       "      <td>21.983984</td>\n",
       "      <td>3.467330e+08</td>\n",
       "      <td>6.218420</td>\n",
       "    </tr>\n",
       "  </tbody>\n",
       "</table>\n",
       "</div>"
      ],
      "text/plain": [
       "   Stkcd      Trddt  Opnprc  Hiprc  Loprc  Clsprc        PB         PE  \\\n",
       "0      1   2014/1/2   12.12  12.30  12.05   12.23  0.992657  23.038914   \n",
       "1      1   2014/1/3   12.15  12.16  11.78   11.93  0.968308  22.473773   \n",
       "2      1   2014/1/6   11.89  12.00  11.50   11.67  0.947205  21.983984   \n",
       "3      1   2014/1/7   11.53  11.76  11.51   11.63  0.943958  21.908632   \n",
       "4      1   2014/1/8   11.64  11.95  11.53   11.76  0.954510  22.153526   \n",
       "5      1   2014/1/9   11.69  11.99  11.65   11.82  0.959379  22.266554   \n",
       "6      1  2014/1/10   11.78  11.95  11.66   11.82  0.959379  22.266554   \n",
       "7      1  2014/1/13   11.80  11.91  11.49   11.60  0.941523  21.852118   \n",
       "8      1  2014/1/14   11.57  11.78  11.45   11.72  0.951263  22.078174   \n",
       "9      1  2014/1/15   11.70  11.74  11.56   11.67  0.947205  21.983984   \n",
       "\n",
       "         Volume  turnover_1  \n",
       "0  5.962237e+08   10.692867  \n",
       "1  6.566313e+08   11.776235  \n",
       "2  6.792804e+08   12.182431  \n",
       "3  3.939776e+08    7.065719  \n",
       "4  5.384362e+08    9.656486  \n",
       "5  5.768705e+08   10.345780  \n",
       "6  4.504877e+08    8.079190  \n",
       "7  5.593752e+08   10.032012  \n",
       "8  4.207153e+08    7.545241  \n",
       "9  3.467330e+08    6.218420  "
      ]
     },
     "execution_count": 3,
     "metadata": {},
     "output_type": "execute_result"
    }
   ],
   "source": [
    "df.head(10)"
   ]
  },
  {
   "cell_type": "code",
   "execution_count": 4,
   "metadata": {},
   "outputs": [
    {
     "name": "stdout",
     "output_type": "stream",
     "text": [
      "different stk_id num: 322\n"
     ]
    }
   ],
   "source": [
    "stk_num = df.Stkcd.value_counts().shape[0]\n",
    "print(\"different stk_id num: {}\".format(stk_num))"
   ]
  },
  {
   "cell_type": "code",
   "execution_count": 5,
   "metadata": {},
   "outputs": [
    {
     "name": "stdout",
     "output_type": "stream",
     "text": [
      "original shape: (148376, 10)\n",
      "dropna shape: (148376, 10)\n"
     ]
    }
   ],
   "source": [
    "print(\"original shape: {}\".format(df.shape))\n",
    "tmp = df.dropna()\n",
    "print(\"dropna shape: {}\".format(tmp.shape))"
   ]
  },
  {
   "cell_type": "code",
   "execution_count": 6,
   "metadata": {},
   "outputs": [
    {
     "name": "stdout",
     "output_type": "stream",
     "text": [
      "322\n",
      "[601600, 600123, 600362, 600216, 869, 600642, 601666, 600875, 600863, 601628]\n"
     ]
    }
   ],
   "source": [
    "tmp = df.Stkcd.value_counts().keys()\n",
    "tmp = list(tmp)\n",
    "print(len(tmp))\n",
    "print(tmp[:10])"
   ]
  },
  {
   "cell_type": "code",
   "execution_count": 7,
   "metadata": {},
   "outputs": [],
   "source": [
    "feat_col = ['Opnprc', 'Hiprc', 'Loprc', 'Clsprc', 'PB', 'PE', 'Volume', 'turnover_1']"
   ]
  },
  {
   "cell_type": "code",
   "execution_count": 8,
   "metadata": {},
   "outputs": [
    {
     "data": {
      "text/plain": [
       "array(['2014/1/2', '2014/1/3', '2014/1/6', ..., '2015/12/29',\n",
       "       '2015/12/30', '2015/12/31'], dtype=object)"
      ]
     },
     "execution_count": 8,
     "metadata": {},
     "output_type": "execute_result"
    }
   ],
   "source": [
    "df[\"Trddt\"].values"
   ]
  },
  {
   "cell_type": "code",
   "execution_count": 9,
   "metadata": {},
   "outputs": [],
   "source": [
    "std_scale = StandardScaler()\n",
    "mia_scale = MinMaxScaler()"
   ]
  },
  {
   "cell_type": "code",
   "execution_count": 10,
   "metadata": {},
   "outputs": [],
   "source": [
    "std_res = std_scale.fit_transform(df[['Opnprc', 'Hiprc', 'Loprc', 'Clsprc', 'PB', 'PE','Volume', 'turnover_1']])\n",
    "mia_res = mia_scale.fit_transform(df[['Opnprc', 'Hiprc', 'Loprc', 'Clsprc', 'PB', 'PE','Volume', 'turnover_1']])"
   ]
  },
  {
   "cell_type": "code",
   "execution_count": 11,
   "metadata": {},
   "outputs": [
    {
     "name": "stdout",
     "output_type": "stream",
     "text": [
      "[[-0.36460615 -0.37017577 -0.35436831 -0.35963612 -0.7634889  -0.06619672\n",
      "  -0.15522128 -0.49193383]\n",
      " [-0.3629639  -0.3776468  -0.36949293 -0.37602127 -0.77033466 -0.06647481\n",
      "  -0.11712909 -0.47494141]]\n"
     ]
    }
   ],
   "source": [
    "print(std_res[:2])"
   ]
  },
  {
   "cell_type": "code",
   "execution_count": 12,
   "metadata": {},
   "outputs": [
    {
     "data": {
      "text/html": [
       "<div>\n",
       "<style scoped>\n",
       "    .dataframe tbody tr th:only-of-type {\n",
       "        vertical-align: middle;\n",
       "    }\n",
       "\n",
       "    .dataframe tbody tr th {\n",
       "        vertical-align: top;\n",
       "    }\n",
       "\n",
       "    .dataframe thead th {\n",
       "        text-align: right;\n",
       "    }\n",
       "</style>\n",
       "<table border=\"1\" class=\"dataframe\">\n",
       "  <thead>\n",
       "    <tr style=\"text-align: right;\">\n",
       "      <th></th>\n",
       "      <th>Stkcd</th>\n",
       "      <th>Trddt</th>\n",
       "      <th>Opnprc</th>\n",
       "      <th>Hiprc</th>\n",
       "      <th>Loprc</th>\n",
       "      <th>Clsprc</th>\n",
       "      <th>PB</th>\n",
       "      <th>PE</th>\n",
       "      <th>Volume</th>\n",
       "      <th>turnover_1</th>\n",
       "    </tr>\n",
       "  </thead>\n",
       "  <tbody>\n",
       "    <tr>\n",
       "      <th>0</th>\n",
       "      <td>1</td>\n",
       "      <td>2014/1/2</td>\n",
       "      <td>12.12</td>\n",
       "      <td>12.30</td>\n",
       "      <td>12.05</td>\n",
       "      <td>12.23</td>\n",
       "      <td>0.992657</td>\n",
       "      <td>23.038914</td>\n",
       "      <td>5.962237e+08</td>\n",
       "      <td>10.692867</td>\n",
       "    </tr>\n",
       "    <tr>\n",
       "      <th>1</th>\n",
       "      <td>1</td>\n",
       "      <td>2014/1/3</td>\n",
       "      <td>12.15</td>\n",
       "      <td>12.16</td>\n",
       "      <td>11.78</td>\n",
       "      <td>11.93</td>\n",
       "      <td>0.968308</td>\n",
       "      <td>22.473773</td>\n",
       "      <td>6.566313e+08</td>\n",
       "      <td>11.776235</td>\n",
       "    </tr>\n",
       "  </tbody>\n",
       "</table>\n",
       "</div>"
      ],
      "text/plain": [
       "   Stkcd     Trddt  Opnprc  Hiprc  Loprc  Clsprc        PB         PE  \\\n",
       "0      1  2014/1/2   12.12  12.30  12.05   12.23  0.992657  23.038914   \n",
       "1      1  2014/1/3   12.15  12.16  11.78   11.93  0.968308  22.473773   \n",
       "\n",
       "         Volume  turnover_1  \n",
       "0  5.962237e+08   10.692867  \n",
       "1  6.566313e+08   11.776235  "
      ]
     },
     "execution_count": 12,
     "metadata": {},
     "output_type": "execute_result"
    }
   ],
   "source": [
    "df.loc[[0,1]]"
   ]
  },
  {
   "cell_type": "code",
   "execution_count": 23,
   "metadata": {},
   "outputs": [
    {
     "name": "stdout",
     "output_type": "stream",
     "text": [
      "(148376, 8)\n"
     ]
    },
    {
     "data": {
      "text/html": [
       "<div>\n",
       "<style scoped>\n",
       "    .dataframe tbody tr th:only-of-type {\n",
       "        vertical-align: middle;\n",
       "    }\n",
       "\n",
       "    .dataframe tbody tr th {\n",
       "        vertical-align: top;\n",
       "    }\n",
       "\n",
       "    .dataframe thead th {\n",
       "        text-align: right;\n",
       "    }\n",
       "</style>\n",
       "<table border=\"1\" class=\"dataframe\">\n",
       "  <thead>\n",
       "    <tr style=\"text-align: right;\">\n",
       "      <th></th>\n",
       "      <th>Opnprc</th>\n",
       "      <th>Hiprc</th>\n",
       "      <th>Loprc</th>\n",
       "      <th>Clsprc</th>\n",
       "      <th>PB</th>\n",
       "      <th>PE</th>\n",
       "      <th>Volume</th>\n",
       "      <th>turnover_1</th>\n",
       "    </tr>\n",
       "  </thead>\n",
       "  <tbody>\n",
       "    <tr>\n",
       "      <th>0</th>\n",
       "      <td>-0.364606</td>\n",
       "      <td>-0.370176</td>\n",
       "      <td>-0.354368</td>\n",
       "      <td>-0.359636</td>\n",
       "      <td>-0.763489</td>\n",
       "      <td>-0.066197</td>\n",
       "      <td>-0.155221</td>\n",
       "      <td>-0.491934</td>\n",
       "    </tr>\n",
       "    <tr>\n",
       "      <th>1</th>\n",
       "      <td>-0.362964</td>\n",
       "      <td>-0.377647</td>\n",
       "      <td>-0.369493</td>\n",
       "      <td>-0.376021</td>\n",
       "      <td>-0.770335</td>\n",
       "      <td>-0.066475</td>\n",
       "      <td>-0.117129</td>\n",
       "      <td>-0.474941</td>\n",
       "    </tr>\n",
       "    <tr>\n",
       "      <th>2</th>\n",
       "      <td>-0.377197</td>\n",
       "      <td>-0.386185</td>\n",
       "      <td>-0.385178</td>\n",
       "      <td>-0.390222</td>\n",
       "      <td>-0.776268</td>\n",
       "      <td>-0.066716</td>\n",
       "      <td>-0.102847</td>\n",
       "      <td>-0.468570</td>\n",
       "    </tr>\n",
       "    <tr>\n",
       "      <th>3</th>\n",
       "      <td>-0.396904</td>\n",
       "      <td>-0.398993</td>\n",
       "      <td>-0.384618</td>\n",
       "      <td>-0.392406</td>\n",
       "      <td>-0.777180</td>\n",
       "      <td>-0.066753</td>\n",
       "      <td>-0.282755</td>\n",
       "      <td>-0.548825</td>\n",
       "    </tr>\n",
       "    <tr>\n",
       "      <th>4</th>\n",
       "      <td>-0.390882</td>\n",
       "      <td>-0.388853</td>\n",
       "      <td>-0.383497</td>\n",
       "      <td>-0.385306</td>\n",
       "      <td>-0.774214</td>\n",
       "      <td>-0.066632</td>\n",
       "      <td>-0.191661</td>\n",
       "      <td>-0.508189</td>\n",
       "    </tr>\n",
       "  </tbody>\n",
       "</table>\n",
       "</div>"
      ],
      "text/plain": [
       "     Opnprc     Hiprc     Loprc    Clsprc        PB        PE    Volume  \\\n",
       "0 -0.364606 -0.370176 -0.354368 -0.359636 -0.763489 -0.066197 -0.155221   \n",
       "1 -0.362964 -0.377647 -0.369493 -0.376021 -0.770335 -0.066475 -0.117129   \n",
       "2 -0.377197 -0.386185 -0.385178 -0.390222 -0.776268 -0.066716 -0.102847   \n",
       "3 -0.396904 -0.398993 -0.384618 -0.392406 -0.777180 -0.066753 -0.282755   \n",
       "4 -0.390882 -0.388853 -0.383497 -0.385306 -0.774214 -0.066632 -0.191661   \n",
       "\n",
       "   turnover_1  \n",
       "0   -0.491934  \n",
       "1   -0.474941  \n",
       "2   -0.468570  \n",
       "3   -0.548825  \n",
       "4   -0.508189  "
      ]
     },
     "execution_count": 23,
     "metadata": {},
     "output_type": "execute_result"
    }
   ],
   "source": [
    "columns=['Opnprc', 'Hiprc', 'Loprc', 'Clsprc', 'PB', 'PE','Volume', 'turnover_1']\n",
    "tmp_df = pd.DataFrame(std_res, columns=columns)\n",
    "print(tmp_df.shape)\n",
    "tmp_df.head()"
   ]
  },
  {
   "cell_type": "code",
   "execution_count": 28,
   "metadata": {},
   "outputs": [],
   "source": [
    "tmp_df[\"x\"] = df.Stkcd.tolist()"
   ]
  },
  {
   "cell_type": "code",
   "execution_count": 29,
   "metadata": {},
   "outputs": [
    {
     "data": {
      "text/plain": [
       "322"
      ]
     },
     "execution_count": 29,
     "metadata": {},
     "output_type": "execute_result"
    }
   ],
   "source": [
    "len(tmp_df[\"x\"].value_counts().keys())"
   ]
  },
  {
   "cell_type": "code",
   "execution_count": 30,
   "metadata": {},
   "outputs": [
    {
     "data": {
      "text/plain": [
       "322"
      ]
     },
     "execution_count": 30,
     "metadata": {},
     "output_type": "execute_result"
    }
   ],
   "source": [
    "len(df[\"Stkcd\"].value_counts().keys())"
   ]
  },
  {
   "cell_type": "code",
   "execution_count": 31,
   "metadata": {},
   "outputs": [
    {
     "data": {
      "text/html": [
       "<div>\n",
       "<style scoped>\n",
       "    .dataframe tbody tr th:only-of-type {\n",
       "        vertical-align: middle;\n",
       "    }\n",
       "\n",
       "    .dataframe tbody tr th {\n",
       "        vertical-align: top;\n",
       "    }\n",
       "\n",
       "    .dataframe thead th {\n",
       "        text-align: right;\n",
       "    }\n",
       "</style>\n",
       "<table border=\"1\" class=\"dataframe\">\n",
       "  <thead>\n",
       "    <tr style=\"text-align: right;\">\n",
       "      <th></th>\n",
       "      <th>Opnprc</th>\n",
       "      <th>Hiprc</th>\n",
       "      <th>Loprc</th>\n",
       "      <th>Clsprc</th>\n",
       "      <th>PB</th>\n",
       "      <th>PE</th>\n",
       "      <th>Volume</th>\n",
       "      <th>turnover_1</th>\n",
       "      <th>x</th>\n",
       "    </tr>\n",
       "  </thead>\n",
       "  <tbody>\n",
       "    <tr>\n",
       "      <th>0</th>\n",
       "      <td>-0.364606</td>\n",
       "      <td>-0.370176</td>\n",
       "      <td>-0.354368</td>\n",
       "      <td>-0.359636</td>\n",
       "      <td>-0.763489</td>\n",
       "      <td>-0.066197</td>\n",
       "      <td>-0.155221</td>\n",
       "      <td>-0.491934</td>\n",
       "      <td>1</td>\n",
       "    </tr>\n",
       "    <tr>\n",
       "      <th>1</th>\n",
       "      <td>-0.362964</td>\n",
       "      <td>-0.377647</td>\n",
       "      <td>-0.369493</td>\n",
       "      <td>-0.376021</td>\n",
       "      <td>-0.770335</td>\n",
       "      <td>-0.066475</td>\n",
       "      <td>-0.117129</td>\n",
       "      <td>-0.474941</td>\n",
       "      <td>1</td>\n",
       "    </tr>\n",
       "    <tr>\n",
       "      <th>2</th>\n",
       "      <td>-0.377197</td>\n",
       "      <td>-0.386185</td>\n",
       "      <td>-0.385178</td>\n",
       "      <td>-0.390222</td>\n",
       "      <td>-0.776268</td>\n",
       "      <td>-0.066716</td>\n",
       "      <td>-0.102847</td>\n",
       "      <td>-0.468570</td>\n",
       "      <td>1</td>\n",
       "    </tr>\n",
       "    <tr>\n",
       "      <th>3</th>\n",
       "      <td>-0.396904</td>\n",
       "      <td>-0.398993</td>\n",
       "      <td>-0.384618</td>\n",
       "      <td>-0.392406</td>\n",
       "      <td>-0.777180</td>\n",
       "      <td>-0.066753</td>\n",
       "      <td>-0.282755</td>\n",
       "      <td>-0.548825</td>\n",
       "      <td>1</td>\n",
       "    </tr>\n",
       "    <tr>\n",
       "      <th>4</th>\n",
       "      <td>-0.390882</td>\n",
       "      <td>-0.388853</td>\n",
       "      <td>-0.383497</td>\n",
       "      <td>-0.385306</td>\n",
       "      <td>-0.774214</td>\n",
       "      <td>-0.066632</td>\n",
       "      <td>-0.191661</td>\n",
       "      <td>-0.508189</td>\n",
       "      <td>1</td>\n",
       "    </tr>\n",
       "  </tbody>\n",
       "</table>\n",
       "</div>"
      ],
      "text/plain": [
       "     Opnprc     Hiprc     Loprc    Clsprc        PB        PE    Volume  \\\n",
       "0 -0.364606 -0.370176 -0.354368 -0.359636 -0.763489 -0.066197 -0.155221   \n",
       "1 -0.362964 -0.377647 -0.369493 -0.376021 -0.770335 -0.066475 -0.117129   \n",
       "2 -0.377197 -0.386185 -0.385178 -0.390222 -0.776268 -0.066716 -0.102847   \n",
       "3 -0.396904 -0.398993 -0.384618 -0.392406 -0.777180 -0.066753 -0.282755   \n",
       "4 -0.390882 -0.388853 -0.383497 -0.385306 -0.774214 -0.066632 -0.191661   \n",
       "\n",
       "   turnover_1  x  \n",
       "0   -0.491934  1  \n",
       "1   -0.474941  1  \n",
       "2   -0.468570  1  \n",
       "3   -0.548825  1  \n",
       "4   -0.508189  1  "
      ]
     },
     "execution_count": 31,
     "metadata": {},
     "output_type": "execute_result"
    }
   ],
   "source": [
    "tmp_df.head()"
   ]
  },
  {
   "cell_type": "code",
   "execution_count": 33,
   "metadata": {},
   "outputs": [
    {
     "data": {
      "text/plain": [
       "(148376,)"
      ]
     },
     "execution_count": 33,
     "metadata": {},
     "output_type": "execute_result"
    }
   ],
   "source": [
    "df.Stkcd.shape"
   ]
  },
  {
   "cell_type": "code",
   "execution_count": 34,
   "metadata": {},
   "outputs": [
    {
     "data": {
      "text/plain": [
       "148376"
      ]
     },
     "execution_count": 34,
     "metadata": {},
     "output_type": "execute_result"
    }
   ],
   "source": [
    "len(df.Stkcd.tolist())"
   ]
  },
  {
   "cell_type": "code",
   "execution_count": 47,
   "metadata": {},
   "outputs": [
    {
     "data": {
      "text/plain": [
       "array(['2014/1/2', '2014/1/3', '2014/1/6', ..., '2015/12/29',\n",
       "       '2015/12/30', '2015/12/31'], dtype=object)"
      ]
     },
     "execution_count": 47,
     "metadata": {},
     "output_type": "execute_result"
    }
   ],
   "source": [
    "df.Trddt.values"
   ]
  },
  {
   "cell_type": "code",
   "execution_count": null,
   "metadata": {},
   "outputs": [],
   "source": []
  }
 ],
 "metadata": {
  "kernelspec": {
   "display_name": "Python 3",
   "language": "python",
   "name": "python3"
  },
  "language_info": {
   "codemirror_mode": {
    "name": "ipython",
    "version": 3
   },
   "file_extension": ".py",
   "mimetype": "text/x-python",
   "name": "python",
   "nbconvert_exporter": "python",
   "pygments_lexer": "ipython3",
   "version": "3.6.7"
  }
 },
 "nbformat": 4,
 "nbformat_minor": 2
}
